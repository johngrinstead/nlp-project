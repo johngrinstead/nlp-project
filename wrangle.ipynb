{
 "cells": [
  {
   "cell_type": "markdown",
   "metadata": {},
   "source": [
    "- environment setup"
   ]
  },
  {
   "cell_type": "code",
   "execution_count": 1,
   "metadata": {},
   "outputs": [],
   "source": [
    "from requests import get\n",
    "from bs4 import BeautifulSoup\n",
    "import pandas as pd\n",
    "import acquire"
   ]
  },
  {
   "cell_type": "code",
   "execution_count": 2,
   "metadata": {},
   "outputs": [],
   "source": [
    "import itertools\n"
   ]
  },
  {
   "cell_type": "markdown",
   "metadata": {},
   "source": [
    "# Acquire"
   ]
  },
  {
   "cell_type": "code",
   "execution_count": 3,
   "metadata": {},
   "outputs": [],
   "source": [
    "# make url variable\n",
    "url = ('https://github.com/microsoft')"
   ]
  },
  {
   "cell_type": "code",
   "execution_count": 4,
   "metadata": {},
   "outputs": [],
   "source": [
    "# make the formal request\n",
    "response = get(url)"
   ]
  },
  {
   "cell_type": "code",
   "execution_count": 5,
   "metadata": {},
   "outputs": [
    {
     "data": {
      "text/plain": [
       "<Response [200]>"
      ]
     },
     "execution_count": 5,
     "metadata": {},
     "output_type": "execute_result"
    }
   ],
   "source": [
    "response"
   ]
  },
  {
   "cell_type": "code",
   "execution_count": 6,
   "metadata": {},
   "outputs": [],
   "source": [
    "# raw html\n",
    "html = response.text"
   ]
  },
  {
   "cell_type": "code",
   "execution_count": 7,
   "metadata": {},
   "outputs": [],
   "source": [
    "# create soup object\n",
    "soup = BeautifulSoup(html)"
   ]
  },
  {
   "cell_type": "code",
   "execution_count": 8,
   "metadata": {},
   "outputs": [],
   "source": [
    "# call repo names\n",
    "\n",
    "REPOS = []\n",
    "i = 11\n",
    "while i < 12:\n",
    "    url = 'https://github.com/microsoft?page=8'\n",
    "    response = get(url)\n",
    "    html = response.text\n",
    "    soup = BeautifulSoup(html)\n",
    "    \n",
    "    for n in range(0,30):\n",
    "        REPOS.append(soup.select('h3')[n].text.split())\n",
    "        \n",
    "    i += 1"
   ]
  },
  {
   "cell_type": "code",
   "execution_count": 9,
   "metadata": {},
   "outputs": [
    {
     "data": {
      "text/plain": [
       "[['GSL'],\n",
       " ['GLUECoS'],\n",
       " ['service-fabric-services-and-actors-dotnet'],\n",
       " ['AISchoolTutorials'],\n",
       " ['rushstack'],\n",
       " ['fluentui-react-native'],\n",
       " ['pxt-blockly'],\n",
       " ['refreshing-config'],\n",
       " ['Kusto-Query-Language'],\n",
       " ['fast-blazor'],\n",
       " ['sonder-ui'],\n",
       " ['banner-settings-ado-extension'],\n",
       " ['SandDance'],\n",
       " ['fhir-server'],\n",
       " ['powerbi-visuals-enhancedscatter'],\n",
       " ['ts-parsec'],\n",
       " ['superbenchmark'],\n",
       " ['sarif-sdk'],\n",
       " ['epic-supervisor'],\n",
       " ['windows-rs'],\n",
       " ['tabster'],\n",
       " ['fluentui-android'],\n",
       " ['Windows-AppConsult-Samples-UWP'],\n",
       " ['powerquery-language'],\n",
       " ['ApplicationInsights-node.js-native-metrics'],\n",
       " ['CBL-Mariner'],\n",
       " ['vscode-dev-containers'],\n",
       " ['beachball'],\n",
       " ['vscode-test'],\n",
       " ['terraform-provider-azuredevops']]"
      ]
     },
     "execution_count": 9,
     "metadata": {},
     "output_type": "execute_result"
    }
   ],
   "source": [
    "REPOS"
   ]
  },
  {
   "cell_type": "code",
   "execution_count": 10,
   "metadata": {},
   "outputs": [],
   "source": [
    "# make repo list\n",
    "\n",
    "repo_list = [['roosterjs-react'],\n",
    " ['vscode-azure-iot-toolkit'],\n",
    " ['vscode-azuretools'],\n",
    " ['knack'],\n",
    " ['browsecloud'],\n",
    " ['FluidFramework'],\n",
    " ['PowerBI-visuals-CardBrowser'],\n",
    " ['Azure-Sphere-DevX'],\n",
    " ['ai.ed'],\n",
    " ['vscode-hydrate'],\n",
    " ['BuildXL'],\n",
    " ['vscode-css-languageservice'],\n",
    " ['BotFramework-Composer-Nightlies'],\n",
    " ['FHIR-Converter'],\n",
    " ['CBL-MarinerCoreUI'],\n",
    " ['mixed-reality-extension-sdk-samples'],\n",
    " ['vscode-node-debug'],\n",
    " ['sarif-js-sdk'],\n",
    " ['react-native-tscodegen'],\n",
    " ['vscode-python'],\n",
    " ['Dynamics-365-Fraud-Protection-ManualReview'],\n",
    " ['MixedRealityToolkit-Unity'],\n",
    " ['vscode-jupyter'],\n",
    " ['ComplianceCxE'],\n",
    " ['vscode-react-native'],\n",
    " ['helium-ui'],\n",
    " ['DirectXShaderCompiler'],\n",
    " ['roosterjs'],\n",
    " ['fluentui-apple'],\n",
    " ['FLAML'],['winget-pkgs'],\n",
    " ['azure-devops-extension-sample'],\n",
    " ['BotFramework-WebChat'],\n",
    " ['cookie.gulp'],\n",
    " ['powerbi-visuals-linedotchart'],\n",
    " ['CameraTraps'],\n",
    " ['presidio'],\n",
    " ['playwright'],\n",
    " ['language-server-protocol'],\n",
    " ['electionguard-ballot-box'],\n",
    " ['TypeScript'],\n",
    " ['BotBuilder-V3'],\n",
    " ['vscode-java-dependency'],\n",
    " ['SmartKG'],\n",
    " ['electionguard-ballot-marking-device'],\n",
    " ['SubscribableEvent'],\n",
    " ['reactxp'],\n",
    " ['onnxruntime'],\n",
    " ['charticulator-extensions'],\n",
    " ['vcpkg'],\n",
    " ['vscode'],\n",
    " ['spektate'],\n",
    " ['BotFramework-Emulator'],\n",
    " ['typed-rest-client'],\n",
    " ['azuredatastudio'],\n",
    " ['jacdac-docs'],\n",
    " ['charticulator'],\n",
    " ['jacdac-ts'],\n",
    " ['google-play-vsts-extension'],\n",
    " ['Bing-Maps-Fleet-Tracker'],['redux-dynamic-modules'],\n",
    " ['azure_arc'],\n",
    " ['Cloud-Native-In-a-Day'],\n",
    " ['vscode-java-pack'],\n",
    " ['tfs-cli'],\n",
    " ['vscode-edge-debug2'],\n",
    " ['cordova-plugin-code-push'],\n",
    " ['PowerBI-visuals-AsterPlot'],\n",
    " ['azure-maven-plugins'],\n",
    " ['tsiclient'],\n",
    " ['kiota'],\n",
    " ['botbuilder-tools'],\n",
    " ['azure-pipelines-extensions'],\n",
    " ['ShortStack'],\n",
    " ['powerbi-visuals-heatmap'],\n",
    " ['dotnet'],\n",
    " ['regexp-i18n'],\n",
    " ['powerbi-visuals-gantt'],\n",
    " ['vscode-js-profile-visualizer'],\n",
    " ['PowerBI-visuals-Tornado'],\n",
    " ['PhoneticMatching'],\n",
    " ['PowerBI-visuals-StrippetsBrowser'],\n",
    " ['powerbi-visuals-bulletchart'],\n",
    " ['pxt'],\n",
    " ['arcade-machine-react'],\n",
    " ['LightGBM'],\n",
    " ['react-native-windows'],\n",
    " ['PSRule-vscode'],\n",
    " ['powerbi-visuals-chord'],\n",
    " ['PowerBI-visuals-WordCloud'],['azure-devops-extension-tasks'],\n",
    " ['powerbi-visuals-utils-dataviewutils'],\n",
    " ['powerbi-visuals-utils-tooltiputils'],\n",
    " ['license-checker-webpack-plugin'],\n",
    " ['pxt-event-emitter'],\n",
    " ['powerbi-visuals-utils-testutils'],\n",
    " ['powerbi-visuals-utils-svgutils'],\n",
    " ['powerbi-visuals-utils-colorutils'],\n",
    " ['powerbi-visuals-utils-interactivityutils'],\n",
    " ['powerbi-visuals-utils-typeutils'],\n",
    " ['powerbi-visuals-histogram'],\n",
    " ['nni'],\n",
    " ['pxt-microbit'],\n",
    " ['pxt-common-packages'],\n",
    " ['azure-tools-for-java'],\n",
    " ['service-fabric-explorer'],\n",
    " ['pxt-jacdac'],\n",
    " ['SpareNet'],\n",
    " ['ads-kerberos'],\n",
    " ['coe-starter-kit'],\n",
    " ['clarity'],\n",
    " ['AzureTrailblazerAcademy'],\n",
    " ['PowerBI-visuals-FacetKey'],\n",
    " ['BotFramework-DirectLineJS'],\n",
    " ['dicom-server'],\n",
    " ['PowerBI-visuals-HeatStreams'],\n",
    " ['exp-extension'],\n",
    " ['vcpkg-tool'],\n",
    " ['Application-Insights-Workbooks'],\n",
    " ['PowerPlatformConnectors'],['Application-Insights-Workbooks'],\n",
    " ['PowerPlatformConnectors'],\n",
    " ['qlib'],\n",
    " ['vscode-powerquery'],\n",
    " ['PowerToys'],\n",
    " ['fuse-webui'],\n",
    " ['powerbi-visuals-sampleslicer'],\n",
    " ['electionguard-admin-device'],\n",
    " ['code-with-engineering-playbook'],\n",
    " ['vsts-extension-multivalue-control'],\n",
    " ['openpaimarketplace'],\n",
    " ['Bing-COVID-19-Data'],\n",
    " ['powerbi-visuals-sunburst'],\n",
    " ['devops-project-samples'],\n",
    " ['FASTER'],\n",
    " ['antares'],\n",
    " ['powerbi-visuals-mekkochart'],\n",
    " ['data-protection-mapping-project'],\n",
    " ['PowerBI-visuals-ChicletSlicer'],\n",
    " ['vscode-python-devicesimulator'],\n",
    " ['vscode-arduino'],\n",
    " ['FastTrack'],\n",
    " ['vscode-apimanagement'],\n",
    " ['DiskANN'],\n",
    " ['react-native-macos'],\n",
    " ['snmalloc'],\n",
    " ['Docker-Provider'],\n",
    " ['apple-ux-guide'],\n",
    " ['STL'],\n",
    " ['ai-edu'],['playwright-python'],\n",
    " ['boll'],\n",
    " ['lisa'],\n",
    " ['linkcheckermd'],\n",
    " ['powerquery-parser'],\n",
    " ['BotFramework-Composer'],\n",
    " ['hermes-windows'],\n",
    " ['PSRule'],\n",
    " ['checkedc'],\n",
    " ['checkedc-automation'],\n",
    " ['checkedc-llvm-test-suite'],\n",
    " ['vscode-generator-code'],\n",
    " ['azure-devops-extension-yeoman-generator'],\n",
    " ['timelinestoryteller'],\n",
    " ['MCW-Cloud-native-applications'],\n",
    " ['secure-data-sandbox'],\n",
    " ['vscode-docs'],\n",
    " ['msquic'],\n",
    " ['just'],\n",
    " ['accessibility-insights-web'],\n",
    " ['flamegrill'],\n",
    " ['azure-iot-developer-kit'],\n",
    " ['QuantumLibraries'],\n",
    " ['QuantumKatas'],\n",
    " ['Quantum-NC'],\n",
    " ['Quantum'],\n",
    " ['qsharp-runtime'],\n",
    " ['qsharp-compiler'],\n",
    " ['qdk-python'],\n",
    " ['iqsharp'],['terminal'],\n",
    " ['microsoft-ui-xaml'],\n",
    " ['PowerApps-Samples'],\n",
    " ['powerquery-language-services'],\n",
    " ['ApplicationInsights-dotnet'],\n",
    " ['powerbi-visuals-utils-formattingutils'],\n",
    " ['ms-tpm-20-ref'],\n",
    " ['PSRule-pipelines'],\n",
    " ['CromwellOnAzure'],\n",
    " ['EconML'],\n",
    " ['Workbooks-Localization'],\n",
    " ['MLOS'],\n",
    " ['vscode-cmake-tools'],\n",
    " ['vscode-typescript-next'],\n",
    " ['Azure-Analytics-and-AI-Engagement'],\n",
    " ['etcd3'],\n",
    " ['node-pty'],\n",
    " ['moab'],\n",
    " ['MentalHealthPlatform'],\n",
    " ['appcenter-cli'],\n",
    " ['pai'],\n",
    " ['vsts-team-calendar'],\n",
    " ['powerbi-visuals-pulsechart'],\n",
    " ['arcade-machine'],\n",
    " ['thematic'],\n",
    " ['essex-alpha-build-infra'],\n",
    " ['powerbi-visuals-utils-chartutils'],\n",
    " ['Recognizers-Text'],\n",
    " ['powerbi-visuals-globemap'],\n",
    " ['perfview'],['windows-admin-center-sdk'],\n",
    " ['react-native-dualscreen'],\n",
    " ['sarif-pattern-matcher'],\n",
    " ['Powerbi-Visuals-SampleMatrix'],\n",
    " ['Ironclad'],\n",
    " ['setup-msbuild'],\n",
    " ['azure-devops-engineering-extensions'],\n",
    " ['azure-repos-pr-multi-cherry-pick'],\n",
    " ['botframework-components'],\n",
    " ['WinAppDriver'],\n",
    " ['responsible-ai-widgets'],\n",
    " ['azure-devops-auth-samples'],\n",
    " ['angular-react'],\n",
    " ['health-cards-tests'],\n",
    " ['gather'],\n",
    " ['GSL'],\n",
    " ['GLUECoS'],\n",
    " ['service-fabric-services-and-actors-dotnet'],\n",
    " ['AISchoolTutorials'],\n",
    " ['rushstack'],\n",
    " ['fluentui-react-native'],\n",
    " ['pxt-blockly'],\n",
    " ['refreshing-config'],\n",
    " ['Kusto-Query-Language'],\n",
    " ['fast-blazor'],\n",
    " ['sonder-ui'],\n",
    " ['banner-settings-ado-extension'],\n",
    " ['SandDance'],\n",
    " ['fhir-server'],\n",
    " ['powerbi-visuals-enhancedscatter'],['ts-parsec'],\n",
    " ['superbenchmark'],\n",
    " ['sarif-sdk'],\n",
    " ['epic-supervisor'],\n",
    " ['windows-rs'],\n",
    " ['tabster'],\n",
    " ['fluentui-android'],\n",
    " ['Windows-AppConsult-Samples-UWP'],\n",
    " ['powerquery-language'],\n",
    " ['ApplicationInsights-node.js-native-metrics'],\n",
    " ['CBL-Mariner'],\n",
    " ['vscode-dev-containers'],\n",
    " ['beachball'],\n",
    " ['vscode-test'],\n",
    " ['terraform-provider-azuredevops'],\n",
    " ['adaptivecards-templates'],\n",
    " ['Reference-Guide-For-Quantum-Computing-A-Microsoft-Garage-Project'],\n",
    " ['PowerBI-visuals-AttributeSlicer'],\n",
    " ['tsyringe'],\n",
    " ['gatsby-starter-uifabric'],\n",
    " ['MSMARCO-Document-Ranking-Submissions'],\n",
    " ['IgniteTheTour'],\n",
    " ['react-popout-component'],\n",
    " ['DeepSpeed'],\n",
    " ['vscode-html-languageservice'],\n",
    " ['satcheljs'],\n",
    " ['unilm'],\n",
    " ['vscode-java-test'],\n",
    " ['AirSim'],\n",
    " ['vscode-cosmosdb']]"
   ]
  },
  {
   "cell_type": "code",
   "execution_count": 11,
   "metadata": {},
   "outputs": [],
   "source": [
    "flatten_list = list(itertools.chain(*repo_list))"
   ]
  },
  {
   "cell_type": "code",
   "execution_count": 12,
   "metadata": {},
   "outputs": [
    {
     "data": {
      "text/plain": [
       "['roosterjs-react',\n",
       " 'vscode-azure-iot-toolkit',\n",
       " 'vscode-azuretools',\n",
       " 'knack',\n",
       " 'browsecloud',\n",
       " 'FluidFramework',\n",
       " 'PowerBI-visuals-CardBrowser',\n",
       " 'Azure-Sphere-DevX',\n",
       " 'ai.ed',\n",
       " 'vscode-hydrate',\n",
       " 'BuildXL',\n",
       " 'vscode-css-languageservice',\n",
       " 'BotFramework-Composer-Nightlies',\n",
       " 'FHIR-Converter',\n",
       " 'CBL-MarinerCoreUI',\n",
       " 'mixed-reality-extension-sdk-samples',\n",
       " 'vscode-node-debug',\n",
       " 'sarif-js-sdk',\n",
       " 'react-native-tscodegen',\n",
       " 'vscode-python',\n",
       " 'Dynamics-365-Fraud-Protection-ManualReview',\n",
       " 'MixedRealityToolkit-Unity',\n",
       " 'vscode-jupyter',\n",
       " 'ComplianceCxE',\n",
       " 'vscode-react-native',\n",
       " 'helium-ui',\n",
       " 'DirectXShaderCompiler',\n",
       " 'roosterjs',\n",
       " 'fluentui-apple',\n",
       " 'FLAML',\n",
       " 'winget-pkgs',\n",
       " 'azure-devops-extension-sample',\n",
       " 'BotFramework-WebChat',\n",
       " 'cookie.gulp',\n",
       " 'powerbi-visuals-linedotchart',\n",
       " 'CameraTraps',\n",
       " 'presidio',\n",
       " 'playwright',\n",
       " 'language-server-protocol',\n",
       " 'electionguard-ballot-box',\n",
       " 'TypeScript',\n",
       " 'BotBuilder-V3',\n",
       " 'vscode-java-dependency',\n",
       " 'SmartKG',\n",
       " 'electionguard-ballot-marking-device',\n",
       " 'SubscribableEvent',\n",
       " 'reactxp',\n",
       " 'onnxruntime',\n",
       " 'charticulator-extensions',\n",
       " 'vcpkg',\n",
       " 'vscode',\n",
       " 'spektate',\n",
       " 'BotFramework-Emulator',\n",
       " 'typed-rest-client',\n",
       " 'azuredatastudio',\n",
       " 'jacdac-docs',\n",
       " 'charticulator',\n",
       " 'jacdac-ts',\n",
       " 'google-play-vsts-extension',\n",
       " 'Bing-Maps-Fleet-Tracker',\n",
       " 'redux-dynamic-modules',\n",
       " 'azure_arc',\n",
       " 'Cloud-Native-In-a-Day',\n",
       " 'vscode-java-pack',\n",
       " 'tfs-cli',\n",
       " 'vscode-edge-debug2',\n",
       " 'cordova-plugin-code-push',\n",
       " 'PowerBI-visuals-AsterPlot',\n",
       " 'azure-maven-plugins',\n",
       " 'tsiclient',\n",
       " 'kiota',\n",
       " 'botbuilder-tools',\n",
       " 'azure-pipelines-extensions',\n",
       " 'ShortStack',\n",
       " 'powerbi-visuals-heatmap',\n",
       " 'dotnet',\n",
       " 'regexp-i18n',\n",
       " 'powerbi-visuals-gantt',\n",
       " 'vscode-js-profile-visualizer',\n",
       " 'PowerBI-visuals-Tornado',\n",
       " 'PhoneticMatching',\n",
       " 'PowerBI-visuals-StrippetsBrowser',\n",
       " 'powerbi-visuals-bulletchart',\n",
       " 'pxt',\n",
       " 'arcade-machine-react',\n",
       " 'LightGBM',\n",
       " 'react-native-windows',\n",
       " 'PSRule-vscode',\n",
       " 'powerbi-visuals-chord',\n",
       " 'PowerBI-visuals-WordCloud',\n",
       " 'azure-devops-extension-tasks',\n",
       " 'powerbi-visuals-utils-dataviewutils',\n",
       " 'powerbi-visuals-utils-tooltiputils',\n",
       " 'license-checker-webpack-plugin',\n",
       " 'pxt-event-emitter',\n",
       " 'powerbi-visuals-utils-testutils',\n",
       " 'powerbi-visuals-utils-svgutils',\n",
       " 'powerbi-visuals-utils-colorutils',\n",
       " 'powerbi-visuals-utils-interactivityutils',\n",
       " 'powerbi-visuals-utils-typeutils',\n",
       " 'powerbi-visuals-histogram',\n",
       " 'nni',\n",
       " 'pxt-microbit',\n",
       " 'pxt-common-packages',\n",
       " 'azure-tools-for-java',\n",
       " 'service-fabric-explorer',\n",
       " 'pxt-jacdac',\n",
       " 'SpareNet',\n",
       " 'ads-kerberos',\n",
       " 'coe-starter-kit',\n",
       " 'clarity',\n",
       " 'AzureTrailblazerAcademy',\n",
       " 'PowerBI-visuals-FacetKey',\n",
       " 'BotFramework-DirectLineJS',\n",
       " 'dicom-server',\n",
       " 'PowerBI-visuals-HeatStreams',\n",
       " 'exp-extension',\n",
       " 'vcpkg-tool',\n",
       " 'Application-Insights-Workbooks',\n",
       " 'PowerPlatformConnectors',\n",
       " 'Application-Insights-Workbooks',\n",
       " 'PowerPlatformConnectors',\n",
       " 'qlib',\n",
       " 'vscode-powerquery',\n",
       " 'PowerToys',\n",
       " 'fuse-webui',\n",
       " 'powerbi-visuals-sampleslicer',\n",
       " 'electionguard-admin-device',\n",
       " 'code-with-engineering-playbook',\n",
       " 'vsts-extension-multivalue-control',\n",
       " 'openpaimarketplace',\n",
       " 'Bing-COVID-19-Data',\n",
       " 'powerbi-visuals-sunburst',\n",
       " 'devops-project-samples',\n",
       " 'FASTER',\n",
       " 'antares',\n",
       " 'powerbi-visuals-mekkochart',\n",
       " 'data-protection-mapping-project',\n",
       " 'PowerBI-visuals-ChicletSlicer',\n",
       " 'vscode-python-devicesimulator',\n",
       " 'vscode-arduino',\n",
       " 'FastTrack',\n",
       " 'vscode-apimanagement',\n",
       " 'DiskANN',\n",
       " 'react-native-macos',\n",
       " 'snmalloc',\n",
       " 'Docker-Provider',\n",
       " 'apple-ux-guide',\n",
       " 'STL',\n",
       " 'ai-edu',\n",
       " 'playwright-python',\n",
       " 'boll',\n",
       " 'lisa',\n",
       " 'linkcheckermd',\n",
       " 'powerquery-parser',\n",
       " 'BotFramework-Composer',\n",
       " 'hermes-windows',\n",
       " 'PSRule',\n",
       " 'checkedc',\n",
       " 'checkedc-automation',\n",
       " 'checkedc-llvm-test-suite',\n",
       " 'vscode-generator-code',\n",
       " 'azure-devops-extension-yeoman-generator',\n",
       " 'timelinestoryteller',\n",
       " 'MCW-Cloud-native-applications',\n",
       " 'secure-data-sandbox',\n",
       " 'vscode-docs',\n",
       " 'msquic',\n",
       " 'just',\n",
       " 'accessibility-insights-web',\n",
       " 'flamegrill',\n",
       " 'azure-iot-developer-kit',\n",
       " 'QuantumLibraries',\n",
       " 'QuantumKatas',\n",
       " 'Quantum-NC',\n",
       " 'Quantum',\n",
       " 'qsharp-runtime',\n",
       " 'qsharp-compiler',\n",
       " 'qdk-python',\n",
       " 'iqsharp',\n",
       " 'terminal',\n",
       " 'microsoft-ui-xaml',\n",
       " 'PowerApps-Samples',\n",
       " 'powerquery-language-services',\n",
       " 'ApplicationInsights-dotnet',\n",
       " 'powerbi-visuals-utils-formattingutils',\n",
       " 'ms-tpm-20-ref',\n",
       " 'PSRule-pipelines',\n",
       " 'CromwellOnAzure',\n",
       " 'EconML',\n",
       " 'Workbooks-Localization',\n",
       " 'MLOS',\n",
       " 'vscode-cmake-tools',\n",
       " 'vscode-typescript-next',\n",
       " 'Azure-Analytics-and-AI-Engagement',\n",
       " 'etcd3',\n",
       " 'node-pty',\n",
       " 'moab',\n",
       " 'MentalHealthPlatform',\n",
       " 'appcenter-cli',\n",
       " 'pai',\n",
       " 'vsts-team-calendar',\n",
       " 'powerbi-visuals-pulsechart',\n",
       " 'arcade-machine',\n",
       " 'thematic',\n",
       " 'essex-alpha-build-infra',\n",
       " 'powerbi-visuals-utils-chartutils',\n",
       " 'Recognizers-Text',\n",
       " 'powerbi-visuals-globemap',\n",
       " 'perfview',\n",
       " 'windows-admin-center-sdk',\n",
       " 'react-native-dualscreen',\n",
       " 'sarif-pattern-matcher',\n",
       " 'Powerbi-Visuals-SampleMatrix',\n",
       " 'Ironclad',\n",
       " 'setup-msbuild',\n",
       " 'azure-devops-engineering-extensions',\n",
       " 'azure-repos-pr-multi-cherry-pick',\n",
       " 'botframework-components',\n",
       " 'WinAppDriver',\n",
       " 'responsible-ai-widgets',\n",
       " 'azure-devops-auth-samples',\n",
       " 'angular-react',\n",
       " 'health-cards-tests',\n",
       " 'gather',\n",
       " 'GSL',\n",
       " 'GLUECoS',\n",
       " 'service-fabric-services-and-actors-dotnet',\n",
       " 'AISchoolTutorials',\n",
       " 'rushstack',\n",
       " 'fluentui-react-native',\n",
       " 'pxt-blockly',\n",
       " 'refreshing-config',\n",
       " 'Kusto-Query-Language',\n",
       " 'fast-blazor',\n",
       " 'sonder-ui',\n",
       " 'banner-settings-ado-extension',\n",
       " 'SandDance',\n",
       " 'fhir-server',\n",
       " 'powerbi-visuals-enhancedscatter',\n",
       " 'ts-parsec',\n",
       " 'superbenchmark',\n",
       " 'sarif-sdk',\n",
       " 'epic-supervisor',\n",
       " 'windows-rs',\n",
       " 'tabster',\n",
       " 'fluentui-android',\n",
       " 'Windows-AppConsult-Samples-UWP',\n",
       " 'powerquery-language',\n",
       " 'ApplicationInsights-node.js-native-metrics',\n",
       " 'CBL-Mariner',\n",
       " 'vscode-dev-containers',\n",
       " 'beachball',\n",
       " 'vscode-test',\n",
       " 'terraform-provider-azuredevops',\n",
       " 'adaptivecards-templates',\n",
       " 'Reference-Guide-For-Quantum-Computing-A-Microsoft-Garage-Project',\n",
       " 'PowerBI-visuals-AttributeSlicer',\n",
       " 'tsyringe',\n",
       " 'gatsby-starter-uifabric',\n",
       " 'MSMARCO-Document-Ranking-Submissions',\n",
       " 'IgniteTheTour',\n",
       " 'react-popout-component',\n",
       " 'DeepSpeed',\n",
       " 'vscode-html-languageservice',\n",
       " 'satcheljs',\n",
       " 'unilm',\n",
       " 'vscode-java-test',\n",
       " 'AirSim',\n",
       " 'vscode-cosmosdb']"
      ]
     },
     "execution_count": 12,
     "metadata": {},
     "output_type": "execute_result"
    }
   ],
   "source": [
    "flatten_list"
   ]
  },
  {
   "cell_type": "code",
   "execution_count": 13,
   "metadata": {},
   "outputs": [],
   "source": [
    "Repos = pd.Series(flatten_list)"
   ]
  },
  {
   "cell_type": "code",
   "execution_count": 14,
   "metadata": {},
   "outputs": [],
   "source": [
    "REPOS = list('microsoft/' + Repos)"
   ]
  },
  {
   "cell_type": "code",
   "execution_count": 15,
   "metadata": {},
   "outputs": [],
   "source": [
    "\"\"\"\n",
    "A module for obtaining repo readme and language data from the github API.\n",
    "Before using this module, read through it, and follow the instructions marked\n",
    "TODO.\n",
    "After doing so, run it like this:\n",
    "    python acquire.py\n",
    "To create the `data.json` file that contains the data.\n",
    "\"\"\"\n",
    "import os\n",
    "import json\n",
    "from typing import Dict, List, Optional, Union, cast\n",
    "import requests\n",
    "\n",
    "from env import github_token, github_username\n",
    "\n",
    "# TODO: Make a github personal access token.\n",
    "#     1. Go here and generate a personal access token https://github.com/settings/tokens\n",
    "#        You do _not_ need select any scopes, i.e. leave all the checkboxes unchecked\n",
    "#     2. Save it in your env.py file under the variable `github_token`\n",
    "# TODO: Add your github username to your env.py file under the variable `github_username`\n",
    "# TODO: Add more repositories to the `REPOS` list below.\n",
    "\n",
    "\n",
    "headers = {\"Authorization\": f\"token {github_token}\", \"User-Agent\": github_username}\n",
    "\n",
    "if headers[\"Authorization\"] == \"token \" or headers[\"User-Agent\"] == \"\":\n",
    "    raise Exception(\n",
    "        \"You need to follow the instructions marked TODO in this script before trying to use it\"\n",
    "    )\n",
    "\n",
    "\n",
    "def github_api_request(url: str) -> Union[List, Dict]:\n",
    "    response = requests.get(url, headers=headers)\n",
    "    response_data = response.json()\n",
    "    if response.status_code != 200:\n",
    "        raise Exception(\n",
    "            f\"Error response from github api! status code: {response.status_code}, \"\n",
    "            f\"response: {json.dumps(response_data)}\"\n",
    "        )\n",
    "    return response_data\n",
    "\n",
    "\n",
    "def get_repo_language(repo: str) -> str:\n",
    "    url = f\"https://api.github.com/repos/{repo}\"\n",
    "    repo_info = github_api_request(url)\n",
    "    if type(repo_info) is dict:\n",
    "        repo_info = cast(Dict, repo_info)\n",
    "        if \"language\" not in repo_info:\n",
    "            raise Exception(\n",
    "                \"'language' key not round in response\\n{}\".format(json.dumps(repo_info))\n",
    "            )\n",
    "        return repo_info[\"language\"]\n",
    "    raise Exception(\n",
    "        f\"Expecting a dictionary response from {url}, instead got {json.dumps(repo_info)}\"\n",
    "    )\n",
    "\n",
    "\n",
    "def get_repo_contents(repo: str) -> List[Dict[str, str]]:\n",
    "    url = f\"https://api.github.com/repos/{repo}/contents/\"\n",
    "    contents = github_api_request(url)\n",
    "    if type(contents) is list:\n",
    "        contents = cast(List, contents)\n",
    "        return contents\n",
    "    raise Exception(\n",
    "        f\"Expecting a list response from {url}, instead got {json.dumps(contents)}\"\n",
    "    )\n",
    "\n",
    "\n",
    "def get_readme_download_url(files: List[Dict[str, str]]) -> str:\n",
    "    \"\"\"\n",
    "    Takes in a response from the github api that lists the files in a repo and\n",
    "    returns the url that can be used to download the repo's README file.\n",
    "    \"\"\"\n",
    "    for file in files:\n",
    "        if file[\"name\"].lower().startswith(\"readme\"):\n",
    "            return file[\"download_url\"]\n",
    "    return \"\"\n",
    "\n",
    "\n",
    "def process_repo(repo: str) -> Dict[str, str]:\n",
    "    \"\"\"\n",
    "    Takes a repo name like \"gocodeup/codeup-setup-script\" and returns a\n",
    "    dictionary with the language of the repo and the readme contents.\n",
    "    \"\"\"\n",
    "    contents = get_repo_contents(repo)\n",
    "    readme_download_url = get_readme_download_url(contents)\n",
    "    if readme_download_url == \"\":\n",
    "        readme_contents = \"\"\n",
    "    else:\n",
    "        readme_contents = requests.get(readme_download_url).text\n",
    "    return {\n",
    "        \"repo\": repo,\n",
    "        \"language\": get_repo_language(repo),\n",
    "        \"readme_contents\": readme_contents,\n",
    "    }\n",
    "\n",
    "\n",
    "def scrape_github_data() -> List[Dict[str, str]]:\n",
    "    \"\"\"\n",
    "    Loop through all of the repos and process them. Returns the processed data.\n",
    "    \"\"\"\n",
    "    return [process_repo(repo) for repo in REPOS]\n",
    "\n",
    "\n",
    "if __name__ == \"__main__\":\n",
    "    data = scrape_github_data()\n",
    "    json.dump(data, open(\"data.json\", \"w\"), indent=1)\n"
   ]
  },
  {
   "cell_type": "code",
   "execution_count": 16,
   "metadata": {},
   "outputs": [],
   "source": [
    "## run scrape function\n",
    "\n",
    "# scrape_github_data()"
   ]
  },
  {
   "cell_type": "code",
   "execution_count": 17,
   "metadata": {},
   "outputs": [],
   "source": [
    "f = open('data.json')"
   ]
  },
  {
   "cell_type": "code",
   "execution_count": 18,
   "metadata": {},
   "outputs": [
    {
     "data": {
      "text/plain": [
       "<_io.TextIOWrapper name='data.json' mode='r' encoding='UTF-8'>"
      ]
     },
     "execution_count": 18,
     "metadata": {},
     "output_type": "execute_result"
    }
   ],
   "source": [
    "f"
   ]
  },
  {
   "cell_type": "code",
   "execution_count": 19,
   "metadata": {},
   "outputs": [],
   "source": [
    "data = json.load(f)"
   ]
  },
  {
   "cell_type": "code",
   "execution_count": 20,
   "metadata": {},
   "outputs": [],
   "source": [
    "# make dataframe\n",
    "df = pd.DataFrame(data)"
   ]
  },
  {
   "cell_type": "code",
   "execution_count": 21,
   "metadata": {},
   "outputs": [
    {
     "data": {
      "text/html": [
       "<div>\n",
       "<style scoped>\n",
       "    .dataframe tbody tr th:only-of-type {\n",
       "        vertical-align: middle;\n",
       "    }\n",
       "\n",
       "    .dataframe tbody tr th {\n",
       "        vertical-align: top;\n",
       "    }\n",
       "\n",
       "    .dataframe thead th {\n",
       "        text-align: right;\n",
       "    }\n",
       "</style>\n",
       "<table border=\"1\" class=\"dataframe\">\n",
       "  <thead>\n",
       "    <tr style=\"text-align: right;\">\n",
       "      <th></th>\n",
       "      <th>repo</th>\n",
       "      <th>language</th>\n",
       "      <th>readme_contents</th>\n",
       "    </tr>\n",
       "  </thead>\n",
       "  <tbody>\n",
       "    <tr>\n",
       "      <th>0</th>\n",
       "      <td>microsoft/roosterjs-react</td>\n",
       "      <td>TypeScript</td>\n",
       "      <td>\\n# Contributing\\n\\nThis project welcomes cont...</td>\n",
       "    </tr>\n",
       "    <tr>\n",
       "      <th>1</th>\n",
       "      <td>microsoft/vscode-azure-iot-toolkit</td>\n",
       "      <td>HTML</td>\n",
       "      <td># Azure IoT Hub\\n\\n[![Join the chat at https:/...</td>\n",
       "    </tr>\n",
       "    <tr>\n",
       "      <th>2</th>\n",
       "      <td>microsoft/vscode-azuretools</td>\n",
       "      <td>TypeScript</td>\n",
       "      <td># VSCode Azure SDK for Node.js\\n\\n[![Build Sta...</td>\n",
       "    </tr>\n",
       "    <tr>\n",
       "      <th>3</th>\n",
       "      <td>microsoft/knack</td>\n",
       "      <td>Python</td>\n",
       "      <td>Knack\\n=====\\n\\n.. image:: https://img.shields...</td>\n",
       "    </tr>\n",
       "    <tr>\n",
       "      <th>4</th>\n",
       "      <td>microsoft/browsecloud</td>\n",
       "      <td>TypeScript</td>\n",
       "      <td>**BrowseCloud - Public Demo**\\n\\n[Try out Brow...</td>\n",
       "    </tr>\n",
       "  </tbody>\n",
       "</table>\n",
       "</div>"
      ],
      "text/plain": [
       "                                 repo    language  \\\n",
       "0           microsoft/roosterjs-react  TypeScript   \n",
       "1  microsoft/vscode-azure-iot-toolkit        HTML   \n",
       "2         microsoft/vscode-azuretools  TypeScript   \n",
       "3                     microsoft/knack      Python   \n",
       "4               microsoft/browsecloud  TypeScript   \n",
       "\n",
       "                                     readme_contents  \n",
       "0  \\n# Contributing\\n\\nThis project welcomes cont...  \n",
       "1  # Azure IoT Hub\\n\\n[![Join the chat at https:/...  \n",
       "2  # VSCode Azure SDK for Node.js\\n\\n[![Build Sta...  \n",
       "3  Knack\\n=====\\n\\n.. image:: https://img.shields...  \n",
       "4  **BrowseCloud - Public Demo**\\n\\n[Try out Brow...  "
      ]
     },
     "execution_count": 21,
     "metadata": {},
     "output_type": "execute_result"
    }
   ],
   "source": [
    "df.head()"
   ]
  },
  {
   "cell_type": "code",
   "execution_count": 22,
   "metadata": {},
   "outputs": [
    {
     "data": {
      "text/plain": [
       "(270, 3)"
      ]
     },
     "execution_count": 22,
     "metadata": {},
     "output_type": "execute_result"
    }
   ],
   "source": [
    "df.shape"
   ]
  },
  {
   "cell_type": "code",
   "execution_count": 23,
   "metadata": {},
   "outputs": [
    {
     "name": "stdout",
     "output_type": "stream",
     "text": [
      "<class 'pandas.core.frame.DataFrame'>\n",
      "RangeIndex: 270 entries, 0 to 269\n",
      "Data columns (total 3 columns):\n",
      " #   Column           Non-Null Count  Dtype \n",
      "---  ------           --------------  ----- \n",
      " 0   repo             270 non-null    object\n",
      " 1   language         262 non-null    object\n",
      " 2   readme_contents  270 non-null    object\n",
      "dtypes: object(3)\n",
      "memory usage: 6.5+ KB\n"
     ]
    }
   ],
   "source": [
    "df.info()"
   ]
  },
  {
   "cell_type": "code",
   "execution_count": 24,
   "metadata": {},
   "outputs": [
    {
     "data": {
      "text/plain": [
       "repo               0\n",
       "language           8\n",
       "readme_contents    0\n",
       "dtype: int64"
      ]
     },
     "execution_count": 24,
     "metadata": {},
     "output_type": "execute_result"
    }
   ],
   "source": [
    "df.isnull().sum()"
   ]
  },
  {
   "cell_type": "code",
   "execution_count": 25,
   "metadata": {},
   "outputs": [],
   "source": [
    "# cache data to csv\n",
    "\n",
    "df.to_csv('microsoft_github.csv')"
   ]
  },
  {
   "cell_type": "code",
   "execution_count": 26,
   "metadata": {},
   "outputs": [],
   "source": [
    "# make acquire function\n",
    "\n",
    "df2 = pd.read_csv('microsoft_github.csv')\n",
    "\n",
    "df2 = df2.drop(columns = ['Unnamed: 0'])"
   ]
  },
  {
   "cell_type": "code",
   "execution_count": 27,
   "metadata": {},
   "outputs": [
    {
     "data": {
      "text/html": [
       "<div>\n",
       "<style scoped>\n",
       "    .dataframe tbody tr th:only-of-type {\n",
       "        vertical-align: middle;\n",
       "    }\n",
       "\n",
       "    .dataframe tbody tr th {\n",
       "        vertical-align: top;\n",
       "    }\n",
       "\n",
       "    .dataframe thead th {\n",
       "        text-align: right;\n",
       "    }\n",
       "</style>\n",
       "<table border=\"1\" class=\"dataframe\">\n",
       "  <thead>\n",
       "    <tr style=\"text-align: right;\">\n",
       "      <th></th>\n",
       "      <th>repo</th>\n",
       "      <th>language</th>\n",
       "      <th>readme_contents</th>\n",
       "    </tr>\n",
       "  </thead>\n",
       "  <tbody>\n",
       "    <tr>\n",
       "      <th>0</th>\n",
       "      <td>microsoft/roosterjs-react</td>\n",
       "      <td>TypeScript</td>\n",
       "      <td>\\n# Contributing\\n\\nThis project welcomes cont...</td>\n",
       "    </tr>\n",
       "    <tr>\n",
       "      <th>1</th>\n",
       "      <td>microsoft/vscode-azure-iot-toolkit</td>\n",
       "      <td>HTML</td>\n",
       "      <td># Azure IoT Hub\\n\\n[![Join the chat at https:/...</td>\n",
       "    </tr>\n",
       "    <tr>\n",
       "      <th>2</th>\n",
       "      <td>microsoft/vscode-azuretools</td>\n",
       "      <td>TypeScript</td>\n",
       "      <td># VSCode Azure SDK for Node.js\\n\\n[![Build Sta...</td>\n",
       "    </tr>\n",
       "    <tr>\n",
       "      <th>3</th>\n",
       "      <td>microsoft/knack</td>\n",
       "      <td>Python</td>\n",
       "      <td>Knack\\n=====\\n\\n.. image:: https://img.shields...</td>\n",
       "    </tr>\n",
       "    <tr>\n",
       "      <th>4</th>\n",
       "      <td>microsoft/browsecloud</td>\n",
       "      <td>TypeScript</td>\n",
       "      <td>**BrowseCloud - Public Demo**\\n\\n[Try out Brow...</td>\n",
       "    </tr>\n",
       "  </tbody>\n",
       "</table>\n",
       "</div>"
      ],
      "text/plain": [
       "                                 repo    language  \\\n",
       "0           microsoft/roosterjs-react  TypeScript   \n",
       "1  microsoft/vscode-azure-iot-toolkit        HTML   \n",
       "2         microsoft/vscode-azuretools  TypeScript   \n",
       "3                     microsoft/knack      Python   \n",
       "4               microsoft/browsecloud  TypeScript   \n",
       "\n",
       "                                     readme_contents  \n",
       "0  \\n# Contributing\\n\\nThis project welcomes cont...  \n",
       "1  # Azure IoT Hub\\n\\n[![Join the chat at https:/...  \n",
       "2  # VSCode Azure SDK for Node.js\\n\\n[![Build Sta...  \n",
       "3  Knack\\n=====\\n\\n.. image:: https://img.shields...  \n",
       "4  **BrowseCloud - Public Demo**\\n\\n[Try out Brow...  "
      ]
     },
     "execution_count": 27,
     "metadata": {},
     "output_type": "execute_result"
    }
   ],
   "source": [
    "df2.head()"
   ]
  },
  {
   "cell_type": "code",
   "execution_count": 28,
   "metadata": {},
   "outputs": [],
   "source": [
    "def acquire_microsoft():\n",
    "    '''\n",
    "    This is a simple function to acquire the microsoft github scraped data by calling the cached data\n",
    "    '''\n",
    "    \n",
    "    # call csv\n",
    "    df = pd.read_csv('microsoft_github.csv')\n",
    "    \n",
    "    # remove unnamed column\n",
    "    df = df.drop(columns = ['Unnamed: 0'])\n",
    "    \n",
    "    return df"
   ]
  },
  {
   "cell_type": "code",
   "execution_count": 29,
   "metadata": {},
   "outputs": [],
   "source": [
    "df3 = acquire_microsoft()"
   ]
  },
  {
   "cell_type": "code",
   "execution_count": 30,
   "metadata": {},
   "outputs": [
    {
     "data": {
      "text/html": [
       "<div>\n",
       "<style scoped>\n",
       "    .dataframe tbody tr th:only-of-type {\n",
       "        vertical-align: middle;\n",
       "    }\n",
       "\n",
       "    .dataframe tbody tr th {\n",
       "        vertical-align: top;\n",
       "    }\n",
       "\n",
       "    .dataframe thead th {\n",
       "        text-align: right;\n",
       "    }\n",
       "</style>\n",
       "<table border=\"1\" class=\"dataframe\">\n",
       "  <thead>\n",
       "    <tr style=\"text-align: right;\">\n",
       "      <th></th>\n",
       "      <th>repo</th>\n",
       "      <th>language</th>\n",
       "      <th>readme_contents</th>\n",
       "    </tr>\n",
       "  </thead>\n",
       "  <tbody>\n",
       "    <tr>\n",
       "      <th>0</th>\n",
       "      <td>microsoft/roosterjs-react</td>\n",
       "      <td>TypeScript</td>\n",
       "      <td>\\n# Contributing\\n\\nThis project welcomes cont...</td>\n",
       "    </tr>\n",
       "    <tr>\n",
       "      <th>1</th>\n",
       "      <td>microsoft/vscode-azure-iot-toolkit</td>\n",
       "      <td>HTML</td>\n",
       "      <td># Azure IoT Hub\\n\\n[![Join the chat at https:/...</td>\n",
       "    </tr>\n",
       "    <tr>\n",
       "      <th>2</th>\n",
       "      <td>microsoft/vscode-azuretools</td>\n",
       "      <td>TypeScript</td>\n",
       "      <td># VSCode Azure SDK for Node.js\\n\\n[![Build Sta...</td>\n",
       "    </tr>\n",
       "    <tr>\n",
       "      <th>3</th>\n",
       "      <td>microsoft/knack</td>\n",
       "      <td>Python</td>\n",
       "      <td>Knack\\n=====\\n\\n.. image:: https://img.shields...</td>\n",
       "    </tr>\n",
       "    <tr>\n",
       "      <th>4</th>\n",
       "      <td>microsoft/browsecloud</td>\n",
       "      <td>TypeScript</td>\n",
       "      <td>**BrowseCloud - Public Demo**\\n\\n[Try out Brow...</td>\n",
       "    </tr>\n",
       "  </tbody>\n",
       "</table>\n",
       "</div>"
      ],
      "text/plain": [
       "                                 repo    language  \\\n",
       "0           microsoft/roosterjs-react  TypeScript   \n",
       "1  microsoft/vscode-azure-iot-toolkit        HTML   \n",
       "2         microsoft/vscode-azuretools  TypeScript   \n",
       "3                     microsoft/knack      Python   \n",
       "4               microsoft/browsecloud  TypeScript   \n",
       "\n",
       "                                     readme_contents  \n",
       "0  \\n# Contributing\\n\\nThis project welcomes cont...  \n",
       "1  # Azure IoT Hub\\n\\n[![Join the chat at https:/...  \n",
       "2  # VSCode Azure SDK for Node.js\\n\\n[![Build Sta...  \n",
       "3  Knack\\n=====\\n\\n.. image:: https://img.shields...  \n",
       "4  **BrowseCloud - Public Demo**\\n\\n[Try out Brow...  "
      ]
     },
     "execution_count": 30,
     "metadata": {},
     "output_type": "execute_result"
    }
   ],
   "source": [
    "df3.head()"
   ]
  },
  {
   "cell_type": "markdown",
   "metadata": {},
   "source": [
    "# Prepare"
   ]
  },
  {
   "cell_type": "code",
   "execution_count": 31,
   "metadata": {},
   "outputs": [],
   "source": [
    "import unicodedata\n",
    "import re\n",
    "import json\n",
    "\n",
    "import nltk\n",
    "from nltk.tokenize.toktok import ToktokTokenizer\n",
    "from nltk.corpus import stopwords\n",
    "\n",
    "import pandas as pd\n",
    "\n",
    "import acquire"
   ]
  },
  {
   "cell_type": "code",
   "execution_count": 32,
   "metadata": {},
   "outputs": [],
   "source": [
    "import prepare"
   ]
  },
  {
   "cell_type": "code",
   "execution_count": 33,
   "metadata": {},
   "outputs": [],
   "source": [
    "# drop nulls as they are not needed \n",
    "\n",
    "df.dropna(inplace=True)"
   ]
  },
  {
   "cell_type": "code",
   "execution_count": 34,
   "metadata": {},
   "outputs": [
    {
     "data": {
      "text/plain": [
       "repo               0\n",
       "language           0\n",
       "readme_contents    0\n",
       "dtype: int64"
      ]
     },
     "execution_count": 34,
     "metadata": {},
     "output_type": "execute_result"
    }
   ],
   "source": [
    "df.isnull().sum()"
   ]
  },
  {
   "cell_type": "code",
   "execution_count": 35,
   "metadata": {},
   "outputs": [
    {
     "data": {
      "text/plain": [
       "(262, 3)"
      ]
     },
     "execution_count": 35,
     "metadata": {},
     "output_type": "execute_result"
    }
   ],
   "source": [
    "df.shape"
   ]
  },
  {
   "cell_type": "code",
   "execution_count": 36,
   "metadata": {},
   "outputs": [],
   "source": [
    "content = df.readme_contents[0]"
   ]
  },
  {
   "cell_type": "code",
   "execution_count": 37,
   "metadata": {},
   "outputs": [
    {
     "data": {
      "text/plain": [
       "'\\n# Contributing\\n\\nThis project welcomes contributions and suggestions.  Most contributions require you to agree to a\\nContributor License Agreement (CLA) declaring that you have the right to, and actually do, grant us\\nthe rights to use your contribution. For details, visit https://cla.microsoft.com.\\n\\nWhen you submit a pull request, a CLA-bot will automatically determine whether you need to provide\\na CLA and decorate the PR appropriately (e.g., label, comment). Simply follow the instructions\\nprovided by the bot. You will only need to do this once across all repos using our CLA.\\n\\nThis project has adopted the [Microsoft Open Source Code of Conduct](https://opensource.microsoft.com/codeofconduct/).\\nFor more information see the [Code of Conduct FAQ](https://opensource.microsoft.com/codeofconduct/faq/) or\\ncontact [opencode@microsoft.com](mailto:opencode@microsoft.com) with any additional questions or comments.\\n'"
      ]
     },
     "execution_count": 37,
     "metadata": {},
     "output_type": "execute_result"
    }
   ],
   "source": [
    "content"
   ]
  },
  {
   "cell_type": "code",
   "execution_count": 38,
   "metadata": {},
   "outputs": [],
   "source": [
    "from prepare import basic_clean"
   ]
  },
  {
   "cell_type": "code",
   "execution_count": 39,
   "metadata": {},
   "outputs": [],
   "source": [
    "# run cleaning function\n",
    "clean_content = basic_clean(content)"
   ]
  },
  {
   "cell_type": "code",
   "execution_count": 40,
   "metadata": {},
   "outputs": [
    {
     "data": {
      "text/plain": [
       "'\\n contributing\\n\\nthis project welcomes contributions and suggestions  most contributions require you to agree to a\\ncontributor license agreement cla declaring that you have the right to and actually do grant us\\nthe rights to use your contribution for details visit httpsclamicrosoftcom\\n\\nwhen you submit a pull request a clabot will automatically determine whether you need to provide\\na cla and decorate the pr appropriately eg label comment simply follow the instructions\\nprovided by the bot you will only need to do this once across all repos using our cla\\n\\nthis project has adopted the microsoft open source code of conducthttpsopensourcemicrosoftcomcodeofconduct\\nfor more information see the code of conduct faqhttpsopensourcemicrosoftcomcodeofconductfaq or\\ncontact opencodemicrosoftcommailtoopencodemicrosoftcom with any additional questions or comments\\n'"
      ]
     },
     "execution_count": 40,
     "metadata": {},
     "output_type": "execute_result"
    }
   ],
   "source": [
    "clean_content"
   ]
  },
  {
   "cell_type": "code",
   "execution_count": 41,
   "metadata": {},
   "outputs": [],
   "source": [
    "from prepare import tokenize"
   ]
  },
  {
   "cell_type": "code",
   "execution_count": 42,
   "metadata": {},
   "outputs": [],
   "source": [
    "# run tokenize function\n",
    "\n",
    "tokenized_content = prepare.tokenize(clean_content)"
   ]
  },
  {
   "cell_type": "code",
   "execution_count": 43,
   "metadata": {},
   "outputs": [
    {
     "data": {
      "text/plain": [
       "'contributing\\n\\nthis project welcomes contributions and suggestions most contributions require you to agree to a\\ncontributor license agreement cla declaring that you have the right to and actually do grant us\\nthe rights to use your contribution for details visit httpsclamicrosoftcom\\n\\nwhen you submit a pull request a clabot will automatically determine whether you need to provide\\na cla and decorate the pr appropriately eg label comment simply follow the instructions\\nprovided by the bot you will only need to do this once across all repos using our cla\\n\\nthis project has adopted the microsoft open source code of conducthttpsopensourcemicrosoftcomcodeofconduct\\nfor more information see the code of conduct faqhttpsopensourcemicrosoftcomcodeofconductfaq or\\ncontact opencodemicrosoftcommailtoopencodemicrosoftcom with any additional questions or comments'"
      ]
     },
     "execution_count": 43,
     "metadata": {},
     "output_type": "execute_result"
    }
   ],
   "source": [
    "tokenized_content"
   ]
  },
  {
   "cell_type": "code",
   "execution_count": 44,
   "metadata": {},
   "outputs": [],
   "source": [
    "from prepare import lemmatize"
   ]
  },
  {
   "cell_type": "code",
   "execution_count": 45,
   "metadata": {},
   "outputs": [],
   "source": [
    "# lemmatize content\n",
    "\n",
    "lemmatized_content = lemmatize(tokenized_content)"
   ]
  },
  {
   "cell_type": "code",
   "execution_count": 46,
   "metadata": {},
   "outputs": [
    {
     "data": {
      "text/plain": [
       "'contributing this project welcome contribution and suggestion most contribution require you to agree to a contributor license agreement cla declaring that you have the right to and actually do grant u the right to use your contribution for detail visit httpsclamicrosoftcom when you submit a pull request a clabot will automatically determine whether you need to provide a cla and decorate the pr appropriately eg label comment simply follow the instruction provided by the bot you will only need to do this once across all repos using our cla this project ha adopted the microsoft open source code of conducthttpsopensourcemicrosoftcomcodeofconduct for more information see the code of conduct faqhttpsopensourcemicrosoftcomcodeofconductfaq or contact opencodemicrosoftcommailtoopencodemicrosoftcom with any additional question or comment'"
      ]
     },
     "execution_count": 46,
     "metadata": {},
     "output_type": "execute_result"
    }
   ],
   "source": [
    "lemmatized_content"
   ]
  },
  {
   "cell_type": "code",
   "execution_count": 47,
   "metadata": {},
   "outputs": [],
   "source": [
    "from prepare import remove_stopwords"
   ]
  },
  {
   "cell_type": "code",
   "execution_count": 48,
   "metadata": {},
   "outputs": [],
   "source": [
    "# remove stopwords\n",
    "\n",
    "final_content = remove_stopwords(lemmatized_content)"
   ]
  },
  {
   "cell_type": "code",
   "execution_count": 49,
   "metadata": {},
   "outputs": [
    {
     "data": {
      "text/plain": [
       "'contributing project welcome contribution suggestion contribution require agree contributor license agreement cla declaring right actually grant u right use contribution detail visit httpsclamicrosoftcom submit pull request clabot automatically determine whether need provide cla decorate pr appropriately eg label comment simply follow instruction provided bot need across repos using cla project ha adopted microsoft open source code conducthttpsopensourcemicrosoftcomcodeofconduct information see code conduct faqhttpsopensourcemicrosoftcomcodeofconductfaq contact opencodemicrosoftcommailtoopencodemicrosoftcom additional question comment'"
      ]
     },
     "execution_count": 49,
     "metadata": {},
     "output_type": "execute_result"
    }
   ],
   "source": [
    "final_content"
   ]
  },
  {
   "cell_type": "code",
   "execution_count": 54,
   "metadata": {},
   "outputs": [],
   "source": [
    "# make prepare function\n",
    "\n",
    "def prepare_microsoft(content):\n",
    "    '''\n",
    "    This function will prepare data from from the microsoft_github.csv so that it can be used in NLP\n",
    "    models and exploration\n",
    "    - will take in a string a clean it\n",
    "        -lowercase\n",
    "        -remove accented and special characters\n",
    "    - will tokenize the string and return the seperated words\n",
    "    - will lemmatize the content\n",
    "    - will remove standard English stopwords\n",
    "    '''\n",
    "    \n",
    "    # run cleaning function\n",
    "    clean_content = basic_clean(content)\n",
    "    \n",
    "    # run tokenize function\n",
    "    tokenized_content = prepare.tokenize(clean_content)\n",
    "    \n",
    "    # lemmatize content\n",
    "    lemmatized_content = lemmatize(tokenized_content)\n",
    "    \n",
    "    # remove stopwords\n",
    "    final_content = remove_stopwords(lemmatized_content)\n",
    "    \n",
    "    return final_content"
   ]
  },
  {
   "cell_type": "code",
   "execution_count": 55,
   "metadata": {},
   "outputs": [],
   "source": [
    "content = df.readme_contents[0]"
   ]
  },
  {
   "cell_type": "code",
   "execution_count": 56,
   "metadata": {},
   "outputs": [
    {
     "data": {
      "text/plain": [
       "'\\n# Contributing\\n\\nThis project welcomes contributions and suggestions.  Most contributions require you to agree to a\\nContributor License Agreement (CLA) declaring that you have the right to, and actually do, grant us\\nthe rights to use your contribution. For details, visit https://cla.microsoft.com.\\n\\nWhen you submit a pull request, a CLA-bot will automatically determine whether you need to provide\\na CLA and decorate the PR appropriately (e.g., label, comment). Simply follow the instructions\\nprovided by the bot. You will only need to do this once across all repos using our CLA.\\n\\nThis project has adopted the [Microsoft Open Source Code of Conduct](https://opensource.microsoft.com/codeofconduct/).\\nFor more information see the [Code of Conduct FAQ](https://opensource.microsoft.com/codeofconduct/faq/) or\\ncontact [opencode@microsoft.com](mailto:opencode@microsoft.com) with any additional questions or comments.\\n'"
      ]
     },
     "execution_count": 56,
     "metadata": {},
     "output_type": "execute_result"
    }
   ],
   "source": [
    "content"
   ]
  },
  {
   "cell_type": "code",
   "execution_count": 57,
   "metadata": {},
   "outputs": [],
   "source": [
    "content = prepare_microsoft(content)"
   ]
  },
  {
   "cell_type": "code",
   "execution_count": 58,
   "metadata": {},
   "outputs": [
    {
     "data": {
      "text/plain": [
       "'contributing project welcome contribution suggestion contribution require agree contributor license agreement cla declaring right actually grant u right use contribution detail visit httpsclamicrosoftcom submit pull request clabot automatically determine whether need provide cla decorate pr appropriately eg label comment simply follow instruction provided bot need across repos using cla project ha adopted microsoft open source code conducthttpsopensourcemicrosoftcomcodeofconduct information see code conduct faqhttpsopensourcemicrosoftcomcodeofconductfaq contact opencodemicrosoftcommailtoopencodemicrosoftcom additional question comment'"
      ]
     },
     "execution_count": 58,
     "metadata": {},
     "output_type": "execute_result"
    }
   ],
   "source": [
    "content"
   ]
  },
  {
   "cell_type": "code",
   "execution_count": 59,
   "metadata": {},
   "outputs": [],
   "source": [
    "df.readme_contents = df.readme_contents.apply(prepare_microsoft)"
   ]
  },
  {
   "cell_type": "code",
   "execution_count": 60,
   "metadata": {},
   "outputs": [
    {
     "data": {
      "text/html": [
       "<div>\n",
       "<style scoped>\n",
       "    .dataframe tbody tr th:only-of-type {\n",
       "        vertical-align: middle;\n",
       "    }\n",
       "\n",
       "    .dataframe tbody tr th {\n",
       "        vertical-align: top;\n",
       "    }\n",
       "\n",
       "    .dataframe thead th {\n",
       "        text-align: right;\n",
       "    }\n",
       "</style>\n",
       "<table border=\"1\" class=\"dataframe\">\n",
       "  <thead>\n",
       "    <tr style=\"text-align: right;\">\n",
       "      <th></th>\n",
       "      <th>repo</th>\n",
       "      <th>language</th>\n",
       "      <th>readme_contents</th>\n",
       "    </tr>\n",
       "  </thead>\n",
       "  <tbody>\n",
       "    <tr>\n",
       "      <th>0</th>\n",
       "      <td>microsoft/roosterjs-react</td>\n",
       "      <td>TypeScript</td>\n",
       "      <td>contributing project welcome contribution sugg...</td>\n",
       "    </tr>\n",
       "    <tr>\n",
       "      <th>1</th>\n",
       "      <td>microsoft/vscode-azure-iot-toolkit</td>\n",
       "      <td>HTML</td>\n",
       "      <td>azure iot hub join chat httpsgitterimmicrosoft...</td>\n",
       "    </tr>\n",
       "    <tr>\n",
       "      <th>2</th>\n",
       "      <td>microsoft/vscode-azuretools</td>\n",
       "      <td>TypeScript</td>\n",
       "      <td>vscode azure sdk nodejs build statushttpsdevaz...</td>\n",
       "    </tr>\n",
       "    <tr>\n",
       "      <th>3</th>\n",
       "      <td>microsoft/knack</td>\n",
       "      <td>Python</td>\n",
       "      <td>knack image httpsimgshieldsiopypivknacksvg tar...</td>\n",
       "    </tr>\n",
       "    <tr>\n",
       "      <th>4</th>\n",
       "      <td>microsoft/browsecloud</td>\n",
       "      <td>TypeScript</td>\n",
       "      <td>browsecloud public demo try browsecloud demons...</td>\n",
       "    </tr>\n",
       "  </tbody>\n",
       "</table>\n",
       "</div>"
      ],
      "text/plain": [
       "                                 repo    language  \\\n",
       "0           microsoft/roosterjs-react  TypeScript   \n",
       "1  microsoft/vscode-azure-iot-toolkit        HTML   \n",
       "2         microsoft/vscode-azuretools  TypeScript   \n",
       "3                     microsoft/knack      Python   \n",
       "4               microsoft/browsecloud  TypeScript   \n",
       "\n",
       "                                     readme_contents  \n",
       "0  contributing project welcome contribution sugg...  \n",
       "1  azure iot hub join chat httpsgitterimmicrosoft...  \n",
       "2  vscode azure sdk nodejs build statushttpsdevaz...  \n",
       "3  knack image httpsimgshieldsiopypivknacksvg tar...  \n",
       "4  browsecloud public demo try browsecloud demons...  "
      ]
     },
     "execution_count": 60,
     "metadata": {},
     "output_type": "execute_result"
    }
   ],
   "source": [
    "df.head()"
   ]
  },
  {
   "cell_type": "code",
   "execution_count": null,
   "metadata": {},
   "outputs": [],
   "source": []
  }
 ],
 "metadata": {
  "kernelspec": {
   "display_name": "Python 3",
   "language": "python",
   "name": "python3"
  },
  "language_info": {
   "codemirror_mode": {
    "name": "ipython",
    "version": 3
   },
   "file_extension": ".py",
   "mimetype": "text/x-python",
   "name": "python",
   "nbconvert_exporter": "python",
   "pygments_lexer": "ipython3",
   "version": "3.8.5"
  }
 },
 "nbformat": 4,
 "nbformat_minor": 4
}
